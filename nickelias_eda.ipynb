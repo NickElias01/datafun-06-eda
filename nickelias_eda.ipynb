{
 "cells": [
  {
   "cell_type": "markdown",
   "metadata": {},
   "source": [
    "# Module 6 EDA Project - Coffee Quality Analysis Project\n",
    "\n",
    "In this project, we explore the world of coffee by combining and cleaning two datasets scraped from the Coffee Quality Institute's website: **arabica_ratings_raw** and **robusta_ratings_raw**. Our goal is to perform exploratory data analysis (EDA) to answer various questions about the different types of coffees that have been scored throughout the years. \n",
    "\n",
    "Through this analysis, we aim to uncover insights related to coffee varieties, their quality ratings, and trends from country to country, ultimately enhancing our understanding of coffee quality and preferences.\n"
   ]
  },
  {
   "cell_type": "code",
   "execution_count": 1,
   "metadata": {},
   "outputs": [],
   "source": [
    "import logging\n",
    "import re\n",
    "import numpy as np\n",
    "import pandas as pd\n",
    "import matplotlib.pyplot as plt\n",
    "import seaborn as sns\n",
    "\n",
    "# Set up logging\n",
    "logging.basicConfig(level=logging.INFO, format='%(asctime)s - %(levelname)s - %(message)s')\n",
    "\n",
    "# Set display options to show all rows and columns without truncation\n",
    "# pd.set_option('display.max_rows', None)  # Show all rows\n",
    "# pd.set_option('display.max_columns', None)  # Show all columns\n",
    "# pd.set_option('display.width', None)  # Adjust width to avoid truncation"
   ]
  },
  {
   "cell_type": "code",
   "execution_count": 2,
   "metadata": {},
   "outputs": [],
   "source": [
    "# Load the datasets\n",
    "arabica_data_raw = pd.read_csv('data/arabica_ratings_raw.csv')\n",
    "robusta_data_raw = pd.read_csv('data/robusta_ratings_raw.csv')"
   ]
  },
  {
   "cell_type": "code",
   "execution_count": null,
   "metadata": {},
   "outputs": [],
   "source": [
    "arabica_data_raw.head(1)"
   ]
  },
  {
   "cell_type": "code",
   "execution_count": null,
   "metadata": {},
   "outputs": [],
   "source": [
    "# Drop columns where all values are NaN\n",
    "arabica_data_drop_nan = arabica_data_raw.dropna(axis=1, how='all')\n",
    "robusta_data_drop_nan = robusta_data_raw.dropna(axis=1, how='all')\n",
    "arabica_data_drop_nan.head(3)\n",
    "robusta_data_drop_nan.head(3)"
   ]
  },
  {
   "cell_type": "code",
   "execution_count": null,
   "metadata": {},
   "outputs": [],
   "source": [
    "# Display the arabica_data_cleaned column headers\n",
    "arabica_data_drop_nan.columns.tolist()"
   ]
  },
  {
   "cell_type": "code",
   "execution_count": null,
   "metadata": {},
   "outputs": [],
   "source": [
    "# Display the robusta_data_cleaned column headers\n",
    "robusta_data_drop_nan.columns.tolist()"
   ]
  },
  {
   "cell_type": "code",
   "execution_count": null,
   "metadata": {},
   "outputs": [],
   "source": [
    "# Create a dictionary mapping the robusta column names to the arabica column names\n",
    "robusta_column_mapping = {\n",
    "    'Fragrance / Aroma': 'Aroma',\n",
    "    'Salt / Acid': 'Acidity',  # Rename Salt / Acid to Acidity\n",
    "    'Uniform Cup': 'Uniformity',\n",
    "    'Bitter / Sweet': 'Sweetness'\n",
    "}\n",
    "\n",
    "# Rename the columns and add the 'Body' column in one step\n",
    "robusta_data_drop_nan = (robusta_data_drop_nan\n",
    "                         .rename(columns=robusta_column_mapping)\n",
    "                         .assign(Body=np.nan))\n",
    "\n",
    "robusta_data_drop_nan"
   ]
  },
  {
   "cell_type": "code",
   "execution_count": 8,
   "metadata": {},
   "outputs": [],
   "source": [
    "# Specify which columns to keep in cleaned DataFrame\n",
    "columns_to_keep = [\n",
    " 'quality_score',\n",
    " 'Species',\n",
    " 'Owner',\n",
    " 'Country of Origin',\n",
    " 'Farm Name',\n",
    " 'Lot Number',\n",
    " 'Mill',\n",
    " 'Company',\n",
    " 'Altitude',\n",
    " 'Region',\n",
    " 'Producer',\n",
    " 'Number of Bags',\n",
    " 'Bag Weight',\n",
    " 'In-Country Partner',\n",
    " 'Harvest Year',\n",
    " 'Grading Date',\n",
    " 'Owner.1',\n",
    " 'Variety',\n",
    " 'Processing Method',\n",
    " 'Aroma',\n",
    " 'Flavor',\n",
    " 'Aftertaste',\n",
    " 'Acidity',\n",
    " 'Body',\n",
    " 'Balance',\n",
    " 'Uniformity',\n",
    " 'Clean Cup',\n",
    " 'Sweetness',\n",
    " 'Cupper Points',\n",
    " 'Total Cup Points',\n",
    " 'Moisture',\n",
    " 'Category One Defects',\n",
    " 'Quakers',\n",
    " 'Color',\n",
    " 'Category Two Defects',\n",
    " 'Expiration',\n",
    " 'Certification Body'\n",
    "]"
   ]
  },
  {
   "cell_type": "code",
   "execution_count": null,
   "metadata": {},
   "outputs": [],
   "source": [
    "# Select the columns from both DataFrames\n",
    "arabica_selected = arabica_data_drop_nan[columns_to_keep]\n",
    "robusta_selected = robusta_data_drop_nan[columns_to_keep]\n",
    "\n",
    "# Concatenate the DataFrames\n",
    "combined_coffee_data = pd.concat([arabica_selected, robusta_selected], axis=0, ignore_index=True)\n",
    "combined_coffee_data.head(5)"
   ]
  },
  {
   "cell_type": "code",
   "execution_count": null,
   "metadata": {},
   "outputs": [],
   "source": [
    "# Query the combined_coffee_data dataframe to show only the Robusta species rows\n",
    "combined_coffee_data.query('Species == \"Robusta\"').head()"
   ]
  },
  {
   "cell_type": "markdown",
   "metadata": {},
   "source": [
    "## Note:\n",
    "While cleaning the column headers, I noticed there was a difference between the arabica and robusta columns. \n",
    "The arabica scores were:\n",
    "* Aroma\n",
    "* Flavor\t\n",
    "* Aftertaste\t\n",
    "* Acidity\t\n",
    "* Body\t\n",
    "* Balance\t\t\n",
    "* Uniformity\t\n",
    "* Clean Cup\t\n",
    "* Sweetness\t\n",
    "* Total Cupper Points\n",
    "\n",
    "### and the Robusta scores were:\n",
    "* Fragrance / Aroma\t\n",
    "* Flavor\t\n",
    "* Aftertaste\t\n",
    "* Salt / Acid\t\n",
    "* Bitter / Sweet\t\n",
    "* Mouthfeel\t\n",
    "* Uniform Cup\t\n",
    "* Clean Cup\t\n",
    "* Balance\t\n",
    "* Total Cupper Points\n",
    "\n",
    "So I made the decision to rename some of the Robusta scores columns."
   ]
  },
  {
   "cell_type": "code",
   "execution_count": null,
   "metadata": {},
   "outputs": [],
   "source": [
    "# Specify the desired column order in a list\n",
    "desired_order = [\n",
    "\n",
    "    # Coffee Details\n",
    "    'Species', 'Variety','Country of Origin', 'Region', 'Altitude', 'Processing Method', 'Harvest Year',\n",
    "    \n",
    "    # General Information\n",
    "    'Farm Name', 'Lot Number',\n",
    "    'Number of Bags', 'Producer', 'Mill',\n",
    "    'Owner', 'Company', 'In-Country Partner',\n",
    "\n",
    "    # Defects and Quality\n",
    "    'Moisture', 'Category One Defects', 'Category Two Defects', \n",
    "    'Quakers', 'Color',\n",
    "\n",
    "    # Cupping Scores\n",
    "    'Aroma', 'Flavor', 'Aftertaste', 'Acidity', 'Body', 'Balance', \n",
    "    'Uniformity', 'Clean Cup', 'Sweetness', 'Cupper Points', 'Total Cup Points',\n",
    "    'Grading Date', 'Certification Body'\n",
    "]\n",
    "\n",
    "# Reorder the DataFrame columns\n",
    "combined_coffee_data_reordered = combined_coffee_data[desired_order]\n",
    "\n",
    "# Set pandas to display all columns\n",
    "pd.set_option('display.max_columns', None)  # Set to None to show all columns\n",
    "\n",
    "# Display the reordered DataFrame\n",
    "combined_coffee_data_reordered"
   ]
  },
  {
   "cell_type": "markdown",
   "metadata": {},
   "source": [
    "### Now we have a combined dataframe, combined_coffee_data_reordered, we can start to look at specific issues such as date formatting and missing values."
   ]
  },
  {
   "cell_type": "code",
   "execution_count": null,
   "metadata": {},
   "outputs": [],
   "source": [
    "# Use .loc to change all instances of NaN and 'Other' to 'Not Specified' in the Variety column\n",
    "combined_coffee_data_reordered.loc[:, 'Variety'] = combined_coffee_data_reordered['Variety'].replace({\n",
    "    np.nan: 'Not Specified',\n",
    "    'Other': 'Not Specified'\n",
    "})\n",
    "\n",
    "# Print out all unique strings in the Variety column to check if there are any others that need to be altered\n",
    "print(combined_coffee_data_reordered['Variety'].unique())"
   ]
  },
  {
   "cell_type": "code",
   "execution_count": null,
   "metadata": {},
   "outputs": [],
   "source": [
    "def clean_total_cup_points(df, column_name):\n",
    "    # Check if the column exists\n",
    "    if column_name in df.columns:\n",
    "        # Check the data type of the column\n",
    "        if df[column_name].dtype == 'object':  # Ensure it is a string type before cleaning\n",
    "            # Remove 'Sample' and any extra whitespace\n",
    "            df.loc[:, column_name] = (\n",
    "                df[column_name]\n",
    "                .str.replace(r'Sample\\s*', '', regex=True)  # Remove 'Sample' with optional trailing spaces\n",
    "                .str.strip()  # Remove leading/trailing whitespace\n",
    "            )\n",
    "        # Convert to float, coercing errors to NaN\n",
    "        df.loc[:, column_name] = pd.to_numeric(df[column_name], errors='coerce')\n",
    "\n",
    "# Example usage\n",
    "clean_total_cup_points(combined_coffee_data_reordered, 'Total Cup Points')\n",
    "\n",
    "# Print the data type and updated scores to verify\n",
    "print(\"Data type after conversion:\")\n",
    "print(combined_coffee_data_reordered['Total Cup Points'].dtype)\n",
    "print(\"First 15 entries:\")\n",
    "print(combined_coffee_data_reordered['Total Cup Points'].head(15))"
   ]
  },
  {
   "cell_type": "code",
   "execution_count": null,
   "metadata": {},
   "outputs": [],
   "source": [
    "# Print unique values before modification for debugging\n",
    "#print(combined_coffee_data_reordered['Country of Origin'].unique())\n",
    "\n",
    "# Define a mapping for the standardization\n",
    "country_corrections = {\n",
    "    'Cote d?Ivoire': \"Côte d'Ivoire\",\n",
    "    'United States (Hawaii)': 'United States',\n",
    "    'United States (Puerto Rico)': 'United States',\n",
    "    'Tanzania, United Republic Of': 'United Republic of Tanzania'\n",
    "    # Add more corrections as necessary\n",
    "}\n",
    "\n",
    "# Apply the corrections using .loc\n",
    "combined_coffee_data_reordered.loc[:, 'Country of Origin'] = combined_coffee_data_reordered['Country of Origin'].replace(country_corrections)\n",
    "\n",
    "# Replace NaN with 'Not Specified' using .loc\n",
    "combined_coffee_data_reordered.loc[:, 'Country of Origin'] = combined_coffee_data_reordered['Country of Origin'].fillna('Not Specified')\n",
    "\n",
    "# Verify the unique values after cleaning\n",
    "print(combined_coffee_data_reordered['Country of Origin'].unique())\n"
   ]
  },
  {
   "cell_type": "code",
   "execution_count": null,
   "metadata": {},
   "outputs": [],
   "source": [
    "# Create a new variable for cleaned data\n",
    "cleaned_coffee_data = combined_coffee_data_reordered.copy()\n",
    "\n",
    "# Create a 'Coffee ID' column\n",
    "cleaned_coffee_data.loc[:, 'Coffee ID'] = cleaned_coffee_data.index + 1  # Start ID from 1\n",
    "\n",
    "# Move 'Coffee ID' to the first column\n",
    "cleaned_coffee_data = cleaned_coffee_data[['Coffee ID'] + [col for col in cleaned_coffee_data.columns if col != 'Coffee ID']]\n",
    "\n",
    "# Optionally, check the result\n",
    "cleaned_coffee_data"
   ]
  },
  {
   "cell_type": "code",
   "execution_count": null,
   "metadata": {},
   "outputs": [],
   "source": [
    "cleaned_coffee_data.head(5)"
   ]
  },
  {
   "cell_type": "markdown",
   "metadata": {},
   "source": [
    "### After we're done cleaning the data, let's perform some EDA."
   ]
  },
  {
   "cell_type": "code",
   "execution_count": null,
   "metadata": {},
   "outputs": [],
   "source": [
    "cleaned_coffee_data.describe()\n",
    "# Describe them by country, by Processing Method, and Variety"
   ]
  },
  {
   "cell_type": "code",
   "execution_count": null,
   "metadata": {},
   "outputs": [],
   "source": [
    "print(cleaned_coffee_data['Total Cup Points'].unique())"
   ]
  },
  {
   "cell_type": "code",
   "execution_count": null,
   "metadata": {},
   "outputs": [],
   "source": [
    "# Assuming cleaned_coffee_data is your DataFrame\n",
    "# Step 1: Count of Coffees by Country of Origin\n",
    "country_counts = cleaned_coffee_data['Country of Origin'].value_counts().reset_index()\n",
    "country_counts.columns = ['Country of Origin', 'Coffee Count']\n",
    "\n",
    "# Step 2: Calculate Mean and Median Total Cup Points\n",
    "mean_median_points = cleaned_coffee_data.groupby('Country of Origin')['Total Cup Points'].agg(['mean', 'median']).reset_index()\n",
    "mean_median_points.columns = ['Country of Origin', 'Mean Total Cup Points', 'Median Total Cup Points']\n",
    "\n",
    "# Step 3: Merge the DataFrames\n",
    "country_summary = pd.merge(country_counts, mean_median_points, on='Country of Origin')\n",
    "\n",
    "# Display the summary DataFrame\n",
    "print(country_summary)\n",
    "\n",
    "# Step 4: Box-and-Whisker Plot\n",
    "plt.figure(figsize=(12, 6))\n",
    "sns.boxplot(x='Country of Origin', y='Total Cup Points', data=cleaned_coffee_data)\n",
    "plt.xticks(rotation=90)\n",
    "plt.title('Box-and-Whisker Plot of Total Cup Points by Country of Origin')\n",
    "plt.xlabel('Country of Origin')\n",
    "plt.ylabel('Total Cup Points')\n",
    "plt.tight_layout()\n",
    "plt.show()\n"
   ]
  },
  {
   "cell_type": "markdown",
   "metadata": {},
   "source": [
    "Questions to answer:\n",
    "* Which varieties of coffee have the highest Total Cup Points?\n",
    "* Which country has the highest top 5 scores, and which countries have the bottom 5 lowest scores?\n",
    "* How do Arabica coffees compare to Robusta coffees in terms of Flavor, Sweetness, and Total Cupping Scores?"
   ]
  },
  {
   "cell_type": "code",
   "execution_count": null,
   "metadata": {},
   "outputs": [],
   "source": [
    "# Which varieties of coffee have the highest Total Cup Points? \n",
    "\n",
    "# Calculate maximum scores for each variety\n",
    "top_scores = (\n",
    "    cleaned_coffee_data.groupby('Variety')\n",
    "    .agg({'Total Cup Points': 'max'})\n",
    "    .reset_index()\n",
    ")\n",
    "\n",
    "# Rename the columns for easier access\n",
    "top_scores.columns = ['Variety', 'Top Score']\n",
    "\n",
    "# Sort the DataFrame from highest to lowest top score and get the top 5\n",
    "top_varieties = top_scores.sort_values(by='Top Score', ascending=False).head(5)\n",
    "\n",
    "# Set the style of seaborn\n",
    "sns.set_theme(style=\"whitegrid\")\n",
    "\n",
    "# Create a larger bar plot for top scores\n",
    "plt.figure(figsize=(14, 8))  # Adjusted the figure size\n",
    "bar_plot = sns.barplot(data=top_varieties, x='Variety', y='Top Score', palette='viridis')\n",
    "\n",
    "# Set the y-axis limits\n",
    "plt.ylim(80, 100)\n",
    "\n",
    "plt.title('Top 5 Coffee Varieties by Highest Scores', fontsize=16)\n",
    "plt.xlabel('Coffee Variety', fontsize=14)\n",
    "plt.ylabel('Highest Total Cup Points', fontsize=14)\n",
    "plt.xticks(rotation=45, fontsize=12)\n",
    "plt.yticks(fontsize=12)\n",
    "plt.tight_layout()  # Adjusts the plot to fit into the figure area.\n",
    "plt.show()\n"
   ]
  },
  {
   "cell_type": "code",
   "execution_count": null,
   "metadata": {},
   "outputs": [],
   "source": [
    "# Which country has the highest top 5 scores, and which countries have the bottom 5 lowest scores?\n",
    "\n",
    "# Calculate maximum scores for each country\n",
    "country_scores = (\n",
    "    cleaned_coffee_data.groupby('Country of Origin')\n",
    "    .agg({'Total Cup Points': 'max'})\n",
    "    .reset_index()\n",
    ")\n",
    "\n",
    "# Rename the columns for easier access\n",
    "country_scores.columns = ['Country', 'Top Score']\n",
    "\n",
    "# Get the top 5 countries with highest scores\n",
    "top_countries = country_scores.sort_values(by='Top Score', ascending=False).head(5)\n",
    "\n",
    "# Get the bottom 5 countries with lowest scores\n",
    "bottom_countries = country_scores.sort_values(by='Top Score').head(5)\n",
    "\n",
    "# Display the results\n",
    "print(\"Top 5 Countries by Highest Scores:\")\n",
    "print(top_countries)\n",
    "\n",
    "print(\"\\nBottom 5 Countries by Lowest Scores:\")\n",
    "print(bottom_countries)\n"
   ]
  },
  {
   "cell_type": "code",
   "execution_count": null,
   "metadata": {},
   "outputs": [],
   "source": [
    "# How do Arabica coffees compare to Robusta coffees in terms of Flavor, Sweetness, and Total Cupping Scores?\n",
    "\n",
    "# Set the style of seaborn\n",
    "sns.set_theme(style=\"whitegrid\")\n",
    "\n",
    "# Create a figure with subplots\n",
    "plt.figure(figsize=(18, 8))\n",
    "\n",
    "# Set common y-axis limits (adjust these values based on your data range)\n",
    "y_limits = (0, 10)  # Replace with appropriate min and max values for Flavor and Sweetness\n",
    "cup_points_limits = (80, 100)  # Example limits for Total Cup Points\n",
    "\n",
    "# Arabica Flavor Distribution\n",
    "plt.subplot(2, 3, 1)  # 2 rows, 3 columns, 1st subplot\n",
    "sns.boxplot(data=cleaned_coffee_data[cleaned_coffee_data['Species'] == 'Arabica'], y='Flavor', color='skyblue')\n",
    "plt.title('Arabica Flavor Distribution')\n",
    "plt.ylabel('Flavor Score')\n",
    "plt.ylim(y_limits)  # Set y-axis limits for Flavor\n",
    "\n",
    "# Arabica Sweetness Distribution\n",
    "plt.subplot(2, 3, 2)  # 2 rows, 3 columns, 2nd subplot\n",
    "sns.boxplot(data=cleaned_coffee_data[cleaned_coffee_data['Species'] == 'Arabica'], y='Sweetness', color='skyblue')\n",
    "plt.title('Arabica Sweetness Distribution')\n",
    "plt.ylabel('Sweetness Score')\n",
    "plt.ylim(y_limits)  # Set y-axis limits for Sweetness\n",
    "\n",
    "# Arabica Total Cup Points Distribution\n",
    "plt.subplot(2, 3, 3)  # 2 rows, 3 columns, 3rd subplot\n",
    "sns.boxplot(data=cleaned_coffee_data[cleaned_coffee_data['Species'] == 'Arabica'], y='Total Cup Points', color='skyblue')\n",
    "plt.title('Arabica Total Cup Points Distribution')\n",
    "plt.ylabel('Total Cup Points')\n",
    "plt.ylim(cup_points_limits)  # Set y-axis limits for Total Cup Points\n",
    "\n",
    "# Robusta Flavor Distribution\n",
    "plt.subplot(2, 3, 4)  # 2 rows, 3 columns, 4th subplot\n",
    "sns.boxplot(data=cleaned_coffee_data[cleaned_coffee_data['Species'] == 'Robusta'], y='Flavor', color='salmon')\n",
    "plt.title('Robusta Flavor Distribution')\n",
    "plt.ylabel('Flavor Score')\n",
    "plt.ylim(y_limits)  # Set y-axis limits for Flavor\n",
    "\n",
    "# Robusta Sweetness Distribution\n",
    "plt.subplot(2, 3, 5)  # 2 rows, 3 columns, 5th subplot\n",
    "sns.boxplot(data=cleaned_coffee_data[cleaned_coffee_data['Species'] == 'Robusta'], y='Sweetness', color='salmon')\n",
    "plt.title('Robusta Sweetness Distribution')\n",
    "plt.ylabel('Sweetness Score')\n",
    "plt.ylim(y_limits)  # Set y-axis limits for Sweetness\n",
    "\n",
    "# Robusta Total Cup Points Distribution\n",
    "plt.subplot(2, 3, 6)  # 2 rows, 3 columns, 6th subplot\n",
    "sns.boxplot(data=cleaned_coffee_data[cleaned_coffee_data['Species'] == 'Robusta'], y='Total Cup Points', color='salmon')\n",
    "plt.title('Robusta Total Cup Points Distribution')\n",
    "plt.ylabel('Total Cup Points')\n",
    "plt.ylim(cup_points_limits)  # Set y-axis limits for Total Cup Points\n",
    "\n",
    "plt.tight_layout()  # Adjusts the plot to fit into the figure area.\n",
    "plt.show()\n"
   ]
  }
 ],
 "metadata": {
  "kernelspec": {
   "display_name": "venv",
   "language": "python",
   "name": "python3"
  },
  "language_info": {
   "codemirror_mode": {
    "name": "ipython",
    "version": 3
   },
   "file_extension": ".py",
   "mimetype": "text/x-python",
   "name": "python",
   "nbconvert_exporter": "python",
   "pygments_lexer": "ipython3",
   "version": "3.11.4"
  }
 },
 "nbformat": 4,
 "nbformat_minor": 2
}
