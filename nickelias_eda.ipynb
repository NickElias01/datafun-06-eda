{
 "cells": [
  {
   "cell_type": "markdown",
   "metadata": {},
   "source": [
    "# Module 6 EDA Project - Coffee Quality Database"
   ]
  },
  {
   "cell_type": "code",
   "execution_count": 1,
   "metadata": {},
   "outputs": [],
   "source": [
    "import numpy as np\n",
    "import pandas as pd\n",
    "import matplotlib\n",
    "import seaborn"
   ]
  },
  {
   "cell_type": "code",
   "execution_count": 2,
   "metadata": {},
   "outputs": [],
   "source": [
    "# Load the datasets\n",
    "arabica_data_raw = pd.read_csv('data/arabica_ratings_raw.csv')\n",
    "robusta_data_raw = pd.read_csv('data/robusta_ratings_raw.csv')"
   ]
  },
  {
   "cell_type": "code",
   "execution_count": null,
   "metadata": {},
   "outputs": [],
   "source": [
    "arabica_data_raw.head(1)"
   ]
  },
  {
   "cell_type": "code",
   "execution_count": null,
   "metadata": {},
   "outputs": [],
   "source": [
    "# Drop columns where all values are NaN\n",
    "arabica_data_drop_nan = arabica_data_raw.dropna(axis=1, how='all')\n",
    "robusta_data_drop_nan = robusta_data_raw.dropna(axis=1, how='all')\n",
    "arabica_data_drop_nan.head(3)\n",
    "robusta_data_drop_nan.head(3)"
   ]
  },
  {
   "cell_type": "code",
   "execution_count": null,
   "metadata": {},
   "outputs": [],
   "source": [
    "# Display the arabica_data_cleaned column headers\n",
    "arabica_data_drop_nan.columns.tolist()"
   ]
  },
  {
   "cell_type": "code",
   "execution_count": null,
   "metadata": {},
   "outputs": [],
   "source": [
    "# Display the robusta_data_cleaned column headers\n",
    "robusta_data_drop_nan.columns.tolist()"
   ]
  },
  {
   "cell_type": "code",
   "execution_count": null,
   "metadata": {},
   "outputs": [],
   "source": [
    "# Create a dictionary mapping the robusta column names to the arabica column names\n",
    "robusta_column_mapping = {\n",
    "    'Fragrance / Aroma': 'Aroma',\n",
    "    'Salt / Acid': 'Acidity',  # Rename Salt / Acid to Acidity\n",
    "    'Uniform Cup': 'Uniformity',\n",
    "    'Bitter / Sweet': 'Sweetness'\n",
    "}\n",
    "\n",
    "# Rename the columns and add the 'Body' column in one step\n",
    "robusta_data_drop_nan = (robusta_data_drop_nan\n",
    "                         .rename(columns=robusta_column_mapping)\n",
    "                         .assign(Body=np.nan))\n",
    "\n",
    "robusta_data_drop_nan"
   ]
  },
  {
   "cell_type": "code",
   "execution_count": 17,
   "metadata": {},
   "outputs": [],
   "source": [
    "# Specify which columns to keep in cleaned DataFrame\n",
    "columns_to_keep = [\n",
    " 'quality_score',\n",
    " 'Species',\n",
    " 'Owner',\n",
    " 'Country of Origin',\n",
    " 'Farm Name',\n",
    " 'Lot Number',\n",
    " 'Mill',\n",
    " 'Company',\n",
    " 'Altitude',\n",
    " 'Region',\n",
    " 'Producer',\n",
    " 'Number of Bags',\n",
    " 'Bag Weight',\n",
    " 'In-Country Partner',\n",
    " 'Harvest Year',\n",
    " 'Grading Date',\n",
    " 'Owner.1',\n",
    " 'Variety',\n",
    " 'Processing Method',\n",
    " 'Aroma',\n",
    " 'Flavor',\n",
    " 'Aftertaste',\n",
    " 'Acidity',\n",
    " 'Body',\n",
    " 'Balance',\n",
    " 'Uniformity',\n",
    " 'Clean Cup',\n",
    " 'Sweetness',\n",
    " 'Cupper Points',\n",
    " 'Total Cup Points',\n",
    " 'Moisture',\n",
    " 'Category One Defects',\n",
    " 'Quakers',\n",
    " 'Color',\n",
    " 'Category Two Defects',\n",
    " 'Expiration',\n",
    " 'Certification Body'\n",
    "]"
   ]
  },
  {
   "cell_type": "code",
   "execution_count": null,
   "metadata": {},
   "outputs": [],
   "source": [
    "# Select the columns from both DataFrames\n",
    "arabica_selected = arabica_data_drop_nan[columns_to_keep]\n",
    "robusta_selected = robusta_data_drop_nan[columns_to_keep]\n",
    "\n",
    "# Concatenate the DataFrames\n",
    "combined_coffee_data = pd.concat([arabica_selected, robusta_selected], axis=0, ignore_index=True)\n",
    "combined_coffee_data.head(5)"
   ]
  },
  {
   "cell_type": "code",
   "execution_count": null,
   "metadata": {},
   "outputs": [],
   "source": [
    "# Query the combined_coffee_data dataframe to show only the Robusta species rows\n",
    "combined_coffee_data.query('Species == \"Robusta\"').head()"
   ]
  },
  {
   "cell_type": "markdown",
   "metadata": {},
   "source": [
    "## Note:\n",
    "While cleaning the column headers, I noticed there was a difference between the arabica and robusta columns. \n",
    "The arabica scores were:\n",
    "Aroma\tFlavor\tAftertaste\tAcidity\tBody\tBalance\t\tUniformity\tClean Cup\tSweetness\tCupper Points\n",
    "\n",
    "and the Robusta scores were:\n",
    "Fragrance / Aroma\tFlavor\tAftertaste\tSalt / Acid\tBitter / Sweet\tMouthfeel\tUniform Cup\tClean Cup\tBalance\tCupper Points\n",
    "\n",
    "So I made the decision to rename some of the Robusta scores columns"
   ]
  },
  {
   "cell_type": "code",
   "execution_count": null,
   "metadata": {},
   "outputs": [],
   "source": [
    "# Specify the desired column order in a list\n",
    "desired_order = [\n",
    "\n",
    "    # Coffee Details\n",
    "    'Species', 'Variety','Country of Origin', 'Region', 'Altitude', 'Processing Method', 'Harvest Year', \n",
    "    'Expiration',\n",
    "    \n",
    "    # General Information\n",
    "    'Farm Name', 'Lot Number',\n",
    "    'Number of Bags', 'Bag Weight', 'Producer', 'Mill',\n",
    "    'Owner', 'Company', 'In-Country Partner',\n",
    "\n",
    "    # Defects and Quality\n",
    "    'Moisture', 'Category One Defects', 'Category Two Defects', \n",
    "    'Quakers', 'Color',\n",
    "\n",
    "    # Cupping Scores\n",
    "    'Aroma', 'Flavor', 'Aftertaste', 'Acidity', 'Body', 'Balance', \n",
    "    'Uniformity', 'Clean Cup', 'Sweetness', 'Cupper Points', 'Total Cup Points',\n",
    "    'quality_score', 'Grading Date', 'Certification Body'\n",
    "]\n",
    "\n",
    "# Reorder the DataFrame columns\n",
    "combined_coffee_data_reordered = combined_coffee_data[desired_order]\n",
    "\n",
    "# Set pandas to display all columns\n",
    "pd.set_option('display.max_columns', None)  # Set to None to show all columns\n",
    "\n",
    "# Display the reordered DataFrame\n",
    "combined_coffee_data_reordered.head(25)"
   ]
  }
 ],
 "metadata": {
  "kernelspec": {
   "display_name": ".venv",
   "language": "python",
   "name": "python3"
  },
  "language_info": {
   "codemirror_mode": {
    "name": "ipython",
    "version": 3
   },
   "file_extension": ".py",
   "mimetype": "text/x-python",
   "name": "python",
   "nbconvert_exporter": "python",
   "pygments_lexer": "ipython3",
   "version": "3.11.4"
  }
 },
 "nbformat": 4,
 "nbformat_minor": 2
}
